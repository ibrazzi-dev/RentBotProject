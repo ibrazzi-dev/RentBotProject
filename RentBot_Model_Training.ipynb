{
 "cells": [
  {
   "cell_type": "code",
   "execution_count": 1,
   "id": "b3c6bc47-7794-41fe-b10e-0cc344a252d1",
   "metadata": {},
   "outputs": [
    {
     "name": "stdout",
     "output_type": "stream",
     "text": [
      "📊 Data Loaded!\n"
     ]
    },
    {
     "ename": "NameError",
     "evalue": "name 'st' is not defined",
     "output_type": "error",
     "traceback": [
      "\u001b[1;31m---------------------------------------------------------------------------\u001b[0m",
      "\u001b[1;31mNameError\u001b[0m                                 Traceback (most recent call last)",
      "Cell \u001b[1;32mIn[1], line 18\u001b[0m\n\u001b[0;32m     11\u001b[0m district_mapping \u001b[38;5;241m=\u001b[39m {\n\u001b[0;32m     12\u001b[0m     \u001b[38;5;124m\"\u001b[39m\u001b[38;5;124mNyarugenge\u001b[39m\u001b[38;5;124m\"\u001b[39m: \u001b[38;5;241m0\u001b[39m,\n\u001b[0;32m     13\u001b[0m     \u001b[38;5;124m\"\u001b[39m\u001b[38;5;124mGasabo\u001b[39m\u001b[38;5;124m\"\u001b[39m: \u001b[38;5;241m1\u001b[39m,\n\u001b[0;32m     14\u001b[0m     \u001b[38;5;124m\"\u001b[39m\u001b[38;5;124mKicukiro\u001b[39m\u001b[38;5;124m\"\u001b[39m: \u001b[38;5;241m2\u001b[39m\n\u001b[0;32m     15\u001b[0m }\n\u001b[0;32m     17\u001b[0m \u001b[38;5;66;03m# Get district input from Streamlit selectbox (or other input)\u001b[39;00m\n\u001b[1;32m---> 18\u001b[0m district_input \u001b[38;5;241m=\u001b[39m st\u001b[38;5;241m.\u001b[39mselectbox(\u001b[38;5;124m\"\u001b[39m\u001b[38;5;124mSelect District\u001b[39m\u001b[38;5;124m\"\u001b[39m, \u001b[38;5;28mlist\u001b[39m(district_mapping\u001b[38;5;241m.\u001b[39mkeys()))\n\u001b[0;32m     20\u001b[0m \u001b[38;5;66;03m# Convert to numeric\u001b[39;00m\n\u001b[0;32m     21\u001b[0m district_numeric \u001b[38;5;241m=\u001b[39m district_mapping\u001b[38;5;241m.\u001b[39mget(district_input, \u001b[38;5;241m-\u001b[39m\u001b[38;5;241m1\u001b[39m)  \u001b[38;5;66;03m# -1 if not found\u001b[39;00m\n",
      "\u001b[1;31mNameError\u001b[0m: name 'st' is not defined"
     ]
    }
   ],
   "source": [
    "import pandas as pd\n",
    "from sklearn.preprocessing import StandardScaler, LabelEncoder\n",
    "from sklearn.linear_model import LinearRegression\n",
    "import joblib\n",
    "\n",
    "# 🚀 Load the dataset\n",
    "df = pd.read_csv('rent_data_csv.csv')\n",
    "print(\"📊 Data Loaded!\")\n",
    "\n",
    "# --- District Encoding ---\n",
    "district_mapping = {\n",
    "    \"Nyarugenge\": 0,\n",
    "    \"Gasabo\": 1,\n",
    "    \"Kicukiro\": 2\n",
    "}\n",
    "\n",
    "# Get district input from Streamlit selectbox (or other input)\n",
    "district_input = st.selectbox(\"Select District\", list(district_mapping.keys()))\n",
    "\n",
    "# Convert to numeric\n",
    "district_numeric = district_mapping.get(district_input, -1)  # -1 if not found\n",
    "\n",
    "# Collect other numeric inputs\n",
    "bedrooms = st.number_input(\"Number of Bedrooms\", min_value=1, max_value=10, value=2)\n",
    "bathrooms = st.number_input(\"Number of Bathrooms\", min_value=1, max_value=5, value=1)\n",
    "square_meters = st.number_input(\"Square Meters\", min_value=10, max_value=500, value=50)\n",
    "\n",
    "# --- Prediction ---\n",
    "if st.button(\"Predict Rent Price\"):\n",
    "    try:\n",
    "        features = [[district_numeric, bedrooms, bathrooms, square_meters]]\n",
    "        prediction = model.predict(features)[0]\n",
    "        st.success(f\"Predicted Rent Price: {prediction:,.0f} RWF\")\n",
    "    except Exception as e:\n",
    "        st.error(f\"Prediction error: {e}\")\n",
    "print(\"✅ Model trained!\")\n",
    "\n",
    "import joblib\n",
    "\n",
    "# Save the model and encoders\n",
    "joblib.dump(model, \"model.pkl\")\n",
    "joblib.dump(label_encoders, \"label_encoders.pkl\")\n",
    "joblib.dump(scaler, \"scaler.pkl\")\n",
    "\n",
    "print(\"✅ Model and preprocessing files saved!\")\n"
   ]
  },
  {
   "cell_type": "code",
   "execution_count": null,
   "id": "9afdb83d-e8bc-4a24-b316-1ecbcc05c732",
   "metadata": {},
   "outputs": [],
   "source": []
  },
  {
   "cell_type": "code",
   "execution_count": null,
   "id": "8643de49-b1cb-4a83-b41b-d68e372a542a",
   "metadata": {},
   "outputs": [],
   "source": []
  }
 ],
 "metadata": {
  "kernelspec": {
   "display_name": "Python [conda env:base] *",
   "language": "python",
   "name": "conda-base-py"
  },
  "language_info": {
   "codemirror_mode": {
    "name": "ipython",
    "version": 3
   },
   "file_extension": ".py",
   "mimetype": "text/x-python",
   "name": "python",
   "nbconvert_exporter": "python",
   "pygments_lexer": "ipython3",
   "version": "3.12.7"
  }
 },
 "nbformat": 4,
 "nbformat_minor": 5
}
