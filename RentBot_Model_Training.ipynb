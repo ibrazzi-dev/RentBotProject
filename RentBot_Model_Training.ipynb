{
 "cells": [
  {
   "cell_type": "code",
   "execution_count": 1,
   "id": "b3c6bc47-7794-41fe-b10e-0cc344a252d1",
   "metadata": {},
   "outputs": [
    {
     "name": "stdout",
     "output_type": "stream",
     "text": [
      "📊 Data Loaded!\n",
      "✅ Model trained!\n",
      "✅ Model and preprocessing files saved!\n"
     ]
    }
   ],
   "source": [
    "import pandas as pd\n",
    "from sklearn.preprocessing import StandardScaler, LabelEncoder\n",
    "from sklearn.linear_model import LinearRegression\n",
    "import joblib\n",
    "\n",
    "# 🚀 Load the dataset\n",
    "df = pd.read_csv('rent_data_csv.csv')\n",
    "print(\"📊 Data Loaded!\")\n",
    "\n",
    "# ✅ Rename columns to match our model logic\n",
    "df.rename(columns={\n",
    "    'District': 'location',\n",
    "    'HouseType': 'category',\n",
    "    'Bedrooms': 'bedrooms',\n",
    "    'Bathrooms': 'bathrooms',\n",
    "    'Amenity': 'amenity',\n",
    "    'EstimatedRent(RWF)': 'price'\n",
    "}, inplace=True)\n",
    "\n",
    "# 🧼 Encode categorical data\n",
    "label_encoders = {}\n",
    "for column in ['location', 'category', 'amenity']:\n",
    "    le = LabelEncoder()\n",
    "    df[column] = le.fit_transform(df[column])\n",
    "    label_encoders[column] = le\n",
    "\n",
    "# ⚖️ Scale features\n",
    "scaler = StandardScaler()\n",
    "X = df[['location', 'category', 'bedrooms', 'bathrooms', 'amenity']]\n",
    "X_scaled = scaler.fit_transform(X)\n",
    "y = df['price']\n",
    "\n",
    "# 🤖 Train model\n",
    "model = LinearRegression()\n",
    "model.fit(X_scaled, y)\n",
    "print(\"✅ Model trained!\")\n",
    "\n",
    "import joblib\n",
    "\n",
    "# Save the model and encoders\n",
    "joblib.dump(model, \"model.pkl\")\n",
    "joblib.dump(label_encoders, \"label_encoders.pkl\")\n",
    "joblib.dump(scaler, \"scaler.pkl\")\n",
    "\n",
    "print(\"✅ Model and preprocessing files saved!\")\n"
   ]
  },
  {
   "cell_type": "code",
   "execution_count": null,
   "id": "9afdb83d-e8bc-4a24-b316-1ecbcc05c732",
   "metadata": {},
   "outputs": [],
   "source": []
  }
 ],
 "metadata": {
  "kernelspec": {
   "display_name": "Python [conda env:base] *",
   "language": "python",
   "name": "conda-base-py"
  },
  "language_info": {
   "codemirror_mode": {
    "name": "ipython",
    "version": 3
   },
   "file_extension": ".py",
   "mimetype": "text/x-python",
   "name": "python",
   "nbconvert_exporter": "python",
   "pygments_lexer": "ipython3",
   "version": "3.12.7"
  }
 },
 "nbformat": 4,
 "nbformat_minor": 5
}
